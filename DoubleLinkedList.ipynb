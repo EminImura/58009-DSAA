{
  "nbformat": 4,
  "nbformat_minor": 0,
  "metadata": {
    "colab": {
      "provenance": [],
      "authorship_tag": "ABX9TyO0Uz94Ibxe5hN9V8YDxx0J",
      "include_colab_link": true
    },
    "kernelspec": {
      "name": "python3",
      "display_name": "Python 3"
    },
    "language_info": {
      "name": "python"
    }
  },
  "cells": [
    {
      "cell_type": "markdown",
      "metadata": {
        "id": "view-in-github",
        "colab_type": "text"
      },
      "source": [
        "<a href=\"https://colab.research.google.com/github/EminImura/58009-DSAA/blob/main/DoubleLinkedList.ipynb\" target=\"_parent\"><img src=\"https://colab.research.google.com/assets/colab-badge.svg\" alt=\"Open In Colab\"/></a>"
      ]
    },
    {
      "cell_type": "code",
      "execution_count": 45,
      "metadata": {
        "colab": {
          "base_uri": "https://localhost:8080/"
        },
        "id": "lPpnsAtTAkk2",
        "outputId": "3f67fa1d-67c7-446e-c088-fe92b04e4375"
      },
      "outputs": [
        {
          "output_type": "stream",
          "name": "stdout",
          "text": [
            "1\n",
            "2\n",
            "3\n",
            "2\n",
            "1\n"
          ]
        }
      ],
      "source": [
        "class Node:\n",
        "  def __init__(self, data):\n",
        "    self.data = data\n",
        "    self.next = None\n",
        "    self.prev = None\n",
        "\n",
        "class DoublyLinkedList:\n",
        "  def __init__(self):\n",
        "    self.head = None\n",
        "    self.tail = None\n",
        "\n",
        "  def printlist(self):\n",
        "    temp = self.head\n",
        "    while(temp):\n",
        "      print(temp.data)\n",
        "      temp = temp.next\n",
        "\n",
        "    temp = self.tail\n",
        "    while(temp):\n",
        "      print(temp.data)\n",
        "      temp = temp.prev\n",
        "\n",
        "if __name__=='__main__':\n",
        "  dll = DoublyLinkedList()\n",
        "\n",
        "  dll.head = Node(1)\n",
        "  second = Node(2)\n",
        "  dll.tail = Node(3)\n",
        "\n",
        "  dll.head.next = second;\n",
        "  second.next = dll.tail.prev;\n",
        "  dll.tail.prev = second;\n",
        "  second.prev = dll.head;\n",
        "\n",
        "dll.printlist()"
      ]
    }
  ]
}