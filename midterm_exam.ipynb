{
  "nbformat": 4,
  "nbformat_minor": 0,
  "metadata": {
    "colab": {
      "provenance": [],
      "authorship_tag": "ABX9TyOtHEgsrHvwjMtfMmD9N2nI",
      "include_colab_link": true
    },
    "kernelspec": {
      "name": "python3",
      "display_name": "Python 3"
    },
    "language_info": {
      "name": "python"
    }
  },
  "cells": [
    {
      "cell_type": "markdown",
      "metadata": {
        "id": "view-in-github",
        "colab_type": "text"
      },
      "source": [
        "<a href=\"https://colab.research.google.com/github/EminImura/58009-DSAA/blob/main/midterm_exam.ipynb\" target=\"_parent\"><img src=\"https://colab.research.google.com/assets/colab-badge.svg\" alt=\"Open In Colab\"/></a>"
      ]
    },
    {
      "cell_type": "code",
      "execution_count": 7,
      "metadata": {
        "colab": {
          "base_uri": "https://localhost:8080/"
        },
        "id": "_4dkaT2zC0kz",
        "outputId": "cea3a16f-5784-4c27-819b-2ebc020c89d5"
      },
      "outputs": [
        {
          "output_type": "stream",
          "name": "stdout",
          "text": [
            "Vertices: ['A', 'B', 'C', 'D', 'E', 'F', 'G', 'I', 'J', 'K', 'L', 'M', 'N', 'O', 'P']\n",
            "Edges: [{'B', 'A'}, {'B', 'C'}, {'B', 'E'}, {'B', 'F'}, {'D', 'C'}, {'E', 'C'}, {'C', 'F'}, {'C', 'I'}, {'M', 'C'}, {'K', 'D'}, {'D', 'L'}, {'E', 'N'}, {'G', 'F'}, {'F', 'I'}, {'G', 'J'}, {'G', 'I'}, {'J', 'I'}, {'K', 'I'}, {'K', 'J'}, {'M', 'L'}, {'P', 'L'}, {'M', 'N'}, {'M', 'O'}, {'M', 'P'}, {'N', 'O'}, {'P', 'O'}]\n"
          ]
        }
      ],
      "source": [
        "elements = {\n",
        "    \"A\" : [\"B\"],\n",
        "    \"B\" : [\"A\",\"C\",\"E\",\"F\"],\n",
        "    \"C\" : [\"B\",\"D\",\"E\",\"F\",\"I\",\"M\"],\n",
        "    \"D\" : [\"C\",\"K\",\"L\"],\n",
        "    \"E\" : [\"B\",\"C\",\"N\"],\n",
        "    \"F\" : [\"B\",\"C\",\"G\",\"I\"],\n",
        "    \"G\" : [\"F\",\"J\",\"I\"],\n",
        "    \"I\" : [\"C\",\"F\",\"G\",\"J\",\"K\"],\n",
        "    \"J\" : [\"G\",\"K\",\"I\"],\n",
        "    \"K\" : [\"D\",\"J\",\"I\"],\n",
        "    \"L\" : [\"D\",\"M\",\"P\"],\n",
        "    \"M\" : [\"C\",\"L\",\"N\",\"O\",\"P\"],\n",
        "    \"N\" : [\"E\",\"M\",\"O\"],\n",
        "    \"O\" : [\"M\",\"N\",\"P\"],\n",
        "    \"P\" : [\"L\",\"M\",\"O\"]\n",
        "}\n",
        "\n",
        "class Graph:\n",
        "  def __init__(self,gdict=None):\n",
        "      if gdict is None:\n",
        "         gdict = []\n",
        "      self.gdict = gdict\n",
        "\n",
        "  def getEdges(self):\n",
        "    edgename = []\n",
        "    for vrtx in self.gdict:\n",
        "        for nxtvrtx in self.gdict[vrtx]:\n",
        "          if {nxtvrtx, vrtx} not in edgename:\n",
        "              edgename.append({vrtx, nxtvrtx})\n",
        "    return edgename\n",
        "\n",
        "  def getVertices(self):\n",
        "    return list(self.gdict.keys())\n",
        "\n",
        "g = Graph(elements)\n",
        "print(\"Vertices:\", g.getVertices())\n",
        "print(\"Edges:\", g.getEdges())"
      ]
    }
  ]
}