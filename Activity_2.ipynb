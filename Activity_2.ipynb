{
  "nbformat": 4,
  "nbformat_minor": 0,
  "metadata": {
    "colab": {
      "provenance": [],
      "authorship_tag": "ABX9TyOQzj/CVxjYudJQ6u1AT76Y",
      "include_colab_link": true
    },
    "kernelspec": {
      "name": "python3",
      "display_name": "Python 3"
    },
    "language_info": {
      "name": "python"
    }
  },
  "cells": [
    {
      "cell_type": "markdown",
      "metadata": {
        "id": "view-in-github",
        "colab_type": "text"
      },
      "source": [
        "<a href=\"https://colab.research.google.com/github/EminImura/58009-DSAA/blob/main/Activity_2.ipynb\" target=\"_parent\"><img src=\"https://colab.research.google.com/assets/colab-badge.svg\" alt=\"Open In Colab\"/></a>"
      ]
    },
    {
      "cell_type": "markdown",
      "source": [
        "Write a Python program to create a singly linked list of prime numbers less than 20. By iterating through the list, display all the prime numbers, the head, and the tail of the list. (using Google Colab)"
      ],
      "metadata": {
        "id": "4wM1aiJsYTZm"
      }
    },
    {
      "cell_type": "code",
      "execution_count": 90,
      "metadata": {
        "colab": {
          "base_uri": "https://localhost:8080/"
        },
        "id": "cqGQTCpYYQ7q",
        "outputId": "454b435d-4c1d-483d-f92f-6b915b86e98e"
      },
      "outputs": [
        {
          "output_type": "stream",
          "name": "stdout",
          "text": [
            "2\n",
            "3\n",
            "5\n",
            "7\n",
            "11\n",
            "13\n",
            "17\n",
            "19\n",
            "Head: 2\n",
            "Tail: 19\n"
          ]
        }
      ],
      "source": [
        "class Node:\n",
        "  def __init__(self, data):\n",
        "    self.data = data\n",
        "    self.next = None\n",
        "\n",
        "class LinkedList:\n",
        "  def __init__(self):\n",
        "    self.head = None\n",
        "\n",
        "  def printlist(self):\n",
        "    temp = self.head\n",
        "    while(temp):\n",
        "      print(temp.data)\n",
        "      temp = temp.next\n",
        "\n",
        "if __name__=='__main__':\n",
        "  llist = LinkedList()\n",
        "\n",
        "  prime_num = [2,3,5,7,11,13,17,19]\n",
        "\n",
        "  llist.head = Node(prime_num[0])\n",
        "\n",
        "  for i in range(1,8):\n",
        "    prime_num[i] = Node(prime_num[i])\n",
        "\n",
        "  llist.head.next = prime_num[1];\n",
        "\n",
        "  for i in range(1,7):\n",
        "    prime_num[i].next = prime_num[i+1];\n",
        "\n",
        "llist.printlist()\n",
        "print(\"Head:\", prime_num[0])\n",
        "print(\"Tail:\", prime_num[7].data)"
      ]
    }
  ]
}