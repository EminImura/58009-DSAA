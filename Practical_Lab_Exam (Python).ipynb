{
  "nbformat": 4,
  "nbformat_minor": 0,
  "metadata": {
    "colab": {
      "provenance": [],
      "authorship_tag": "ABX9TyMiLxVtFiF5dVCbOyOJJzbs",
      "include_colab_link": true
    },
    "kernelspec": {
      "name": "python3",
      "display_name": "Python 3"
    },
    "language_info": {
      "name": "python"
    }
  },
  "cells": [
    {
      "cell_type": "markdown",
      "metadata": {
        "id": "view-in-github",
        "colab_type": "text"
      },
      "source": [
        "<a href=\"https://colab.research.google.com/github/EminImura/58009-DSAA/blob/main/Practical_Lab_Exam%20(Python).ipynb\" target=\"_parent\"><img src=\"https://colab.research.google.com/assets/colab-badge.svg\" alt=\"Open In Colab\"/></a>"
      ]
    },
    {
      "cell_type": "code",
      "execution_count": 49,
      "metadata": {
        "colab": {
          "base_uri": "https://localhost:8080/"
        },
        "id": "XQsPh-2rW78Q",
        "outputId": "62177418-1287-430a-d9eb-275901e01398"
      },
      "outputs": [
        {
          "output_type": "stream",
          "name": "stdout",
          "text": [
            "211\n"
          ]
        }
      ],
      "source": [
        "testscores = [26,49,98,87,62,75]\n",
        "totalodd = 0\n",
        "for i in range(0,6):\n",
        "  if testscores[i] % 2 == 0:\n",
        "    pass\n",
        "  else:\n",
        "    totalodd += testscores[i]\n",
        "print(totalodd)"
      ]
    }
  ]
}