{
  "nbformat": 4,
  "nbformat_minor": 0,
  "metadata": {
    "colab": {
      "provenance": [],
      "authorship_tag": "ABX9TyOgShvVAFeER/VGRFK0CsEL",
      "include_colab_link": true
    },
    "kernelspec": {
      "name": "python3",
      "display_name": "Python 3"
    },
    "language_info": {
      "name": "python"
    }
  },
  "cells": [
    {
      "cell_type": "markdown",
      "metadata": {
        "id": "view-in-github",
        "colab_type": "text"
      },
      "source": [
        "<a href=\"https://colab.research.google.com/github/EminImura/58009-DSAA/blob/main/LongQuiz2.ipynb\" target=\"_parent\"><img src=\"https://colab.research.google.com/assets/colab-badge.svg\" alt=\"Open In Colab\"/></a>"
      ]
    },
    {
      "cell_type": "code",
      "execution_count": 8,
      "metadata": {
        "colab": {
          "base_uri": "https://localhost:8080/"
        },
        "id": "R3rhcqX1sQuU",
        "outputId": "21df100d-f0b2-434f-d85a-74502599b53b"
      },
      "outputs": [
        {
          "output_type": "stream",
          "name": "stdout",
          "text": [
            "Vertices: ['E', 'F', 'H', 'I', 'J', 'K', 'M', 'P']\n",
            "Edges: [{'E', 'I'}, {'E', 'J'}, {'E', 'K'}, {'E', 'M'}, {'F', 'I'}, {'F', 'J'}, {'F', 'K'}, {'F', 'P'}, {'H', 'I'}, {'H', 'J'}, {'H', 'K'}]\n"
          ]
        }
      ],
      "source": [
        "graph_elements = {\n",
        "   \"E\" : [\"I\", \"J\", \"K\", \"M\"],\n",
        "   \"F\" : [\"I\", \"J\", \"K\", \"P\"],\n",
        "   \"H\" : [\"I\", \"J\", \"K\"],\n",
        "   \"I\" : [\"E\", \"F\", \"H\"],\n",
        "   \"J\" : [\"E\", \"F\", \"H\"],\n",
        "   \"K\" : [\"E\", \"F\", \"H\"],\n",
        "   \"M\" : [\"E\"],\n",
        "   \"P\" : [\"F\"]\n",
        "}\n",
        "\n",
        "class Graph_28:\n",
        "   def __init__(self,gdict=None):\n",
        "      if gdict is None:\n",
        "         gdict = []\n",
        "      self.gdict = gdict\n",
        "\n",
        "   def getVertices(self):\n",
        "      return list(self.gdict.keys())\n",
        "\n",
        "   def getEdges(self):\n",
        "      edgename = []\n",
        "      for vrtx in self.gdict:\n",
        "         for nxtvrtx in self.gdict[vrtx]:\n",
        "            if {nxtvrtx, vrtx} not in edgename:\n",
        "               edgename.append({vrtx, nxtvrtx})\n",
        "      return edgename\n",
        "\n",
        "g = Graph_28(graph_elements)\n",
        "print(\"Vertices:\", g.getVertices())\n",
        "print(\"Edges:\", g.getEdges())"
      ]
    }
  ]
}