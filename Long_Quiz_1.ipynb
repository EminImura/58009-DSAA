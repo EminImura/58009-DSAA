{
  "nbformat": 4,
  "nbformat_minor": 0,
  "metadata": {
    "colab": {
      "provenance": [],
      "authorship_tag": "ABX9TyNB4FNNkQtAZxycFCPOCbIl",
      "include_colab_link": true
    },
    "kernelspec": {
      "name": "python3",
      "display_name": "Python 3"
    },
    "language_info": {
      "name": "python"
    }
  },
  "cells": [
    {
      "cell_type": "markdown",
      "metadata": {
        "id": "view-in-github",
        "colab_type": "text"
      },
      "source": [
        "<a href=\"https://colab.research.google.com/github/EminImura/58009-DSAA/blob/main/Long_Quiz_1.ipynb\" target=\"_parent\"><img src=\"https://colab.research.google.com/assets/colab-badge.svg\" alt=\"Open In Colab\"/></a>"
      ]
    },
    {
      "cell_type": "markdown",
      "source": [
        "Create a python or C++ program that appends each character of your full name and displays each character in reverse order (50 points)"
      ],
      "metadata": {
        "id": "WhgF2bQ55vj7"
      }
    },
    {
      "cell_type": "code",
      "execution_count": 121,
      "metadata": {
        "colab": {
          "base_uri": "https://localhost:8080/"
        },
        "id": "1KcPTjMWzUQE",
        "outputId": "e4034b94-9736-4040-91d1-a81943eff1ce"
      },
      "outputs": [
        {
          "output_type": "stream",
          "name": "stdout",
          "text": [
            "arumI serelleV eD nimE"
          ]
        }
      ],
      "source": [
        "appendFname = []\n",
        "\n",
        "Fname = \"Emin De Velleres Imura\"\n",
        "\n",
        "for letter in Fname:\n",
        "  appendFname.append(letter)\n",
        "\n",
        "appendFname.reverse()\n",
        "\n",
        "for RevName in range(0,22):\n",
        "  print(appendFname[RevName], end = \"\")"
      ]
    },
    {
      "cell_type": "markdown",
      "source": [
        "Using the set of positive whole numbers from 1 to 10, create a python or C++ program that displays if it is prime or composite. (50 points)"
      ],
      "metadata": {
        "id": "gteEqJii51qg"
      }
    },
    {
      "cell_type": "code",
      "source": [
        "#prime = 2,3,5,7\n",
        "#composite = 4,6,8,9,10\n",
        "for num in range(1,11):\n",
        "  if num == 1:\n",
        "    print(num, \"is neither a composite nor a prime number.\")\n",
        "    continue\n",
        "  for check in range(2,num):\n",
        "    if num % check == 0:\n",
        "      print(num, \"is composite number.\")\n",
        "      break\n",
        "  else:\n",
        "    print(num, \"is a prime number.\")"
      ],
      "metadata": {
        "colab": {
          "base_uri": "https://localhost:8080/"
        },
        "id": "ruNhkGOR514J",
        "outputId": "93df5163-cffe-4399-e8a5-6abb5fd2bf9b"
      },
      "execution_count": 120,
      "outputs": [
        {
          "output_type": "stream",
          "name": "stdout",
          "text": [
            "1 is neither a composite nor a prime number.\n",
            "2 is a prime number.\n",
            "3 is a prime number.\n",
            "4 is composite number.\n",
            "5 is a prime number.\n",
            "6 is composite number.\n",
            "7 is a prime number.\n",
            "8 is composite number.\n",
            "9 is composite number.\n",
            "10 is composite number.\n"
          ]
        }
      ]
    }
  ]
}