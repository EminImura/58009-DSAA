{
  "nbformat": 4,
  "nbformat_minor": 0,
  "metadata": {
    "colab": {
      "provenance": [],
      "authorship_tag": "ABX9TyO/fW2HYPEstM0jwmjGLb7U",
      "include_colab_link": true
    },
    "kernelspec": {
      "name": "python3",
      "display_name": "Python 3"
    },
    "language_info": {
      "name": "python"
    }
  },
  "cells": [
    {
      "cell_type": "markdown",
      "metadata": {
        "id": "view-in-github",
        "colab_type": "text"
      },
      "source": [
        "<a href=\"https://colab.research.google.com/github/EminImura/58009-DSAA/blob/main/Example1_(Python).ipynb\" target=\"_parent\"><img src=\"https://colab.research.google.com/assets/colab-badge.svg\" alt=\"Open In Colab\"/></a>"
      ]
    },
    {
      "cell_type": "code",
      "execution_count": 4,
      "metadata": {
        "colab": {
          "base_uri": "https://localhost:8080/"
        },
        "id": "f08JR_wcxZro",
        "outputId": "85f01956-b58c-4ea6-f42e-5a4c19f596bf"
      },
      "outputs": [
        {
          "output_type": "stream",
          "name": "stdout",
          "text": [
            "Enter the length of a rectangle: 13\n",
            "Enter the width of a rectangle: 14\n",
            "The area of the rectangle is 182.0\n"
          ]
        }
      ],
      "source": [
        "class shape:\n",
        "  def __init__(self, length, width):\n",
        "    self.length = length\n",
        "    self.width = width\n",
        "  def area(self):\n",
        "    return self.length * self.width\n",
        "  def display(self):\n",
        "    print(\"The area of the rectangle is\", self.area())\n",
        "\n",
        "rectangle = shape(float(input(\"Enter the length of a rectangle: \")), float(input(\"Enter the width of a rectangle: \")))\n",
        "rectangle.display()"
      ]
    }
  ]
}