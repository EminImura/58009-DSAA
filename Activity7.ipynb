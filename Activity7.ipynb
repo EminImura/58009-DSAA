{
  "nbformat": 4,
  "nbformat_minor": 0,
  "metadata": {
    "colab": {
      "provenance": [],
      "authorship_tag": "ABX9TyMD1FD3gQ/xjQM+fZloDJev",
      "include_colab_link": true
    },
    "kernelspec": {
      "name": "python3",
      "display_name": "Python 3"
    },
    "language_info": {
      "name": "python"
    }
  },
  "cells": [
    {
      "cell_type": "markdown",
      "metadata": {
        "id": "view-in-github",
        "colab_type": "text"
      },
      "source": [
        "<a href=\"https://colab.research.google.com/github/EminImura/58009-DSAA/blob/main/Activity7.ipynb\" target=\"_parent\"><img src=\"https://colab.research.google.com/assets/colab-badge.svg\" alt=\"Open In Colab\"/></a>"
      ]
    },
    {
      "cell_type": "code",
      "execution_count": 13,
      "metadata": {
        "colab": {
          "base_uri": "https://localhost:8080/"
        },
        "id": "I4OsDKmrMt5y",
        "outputId": "292b870e-a017-4a46-bdce-c792463aa2b0"
      },
      "outputs": [
        {
          "output_type": "stream",
          "name": "stdout",
          "text": [
            "['1', '2', '3', '4', '5', '6']\n",
            "There are 6 vertices.\n"
          ]
        }
      ],
      "source": [
        "#Display Graph Vertices\n",
        "\n",
        "class graph18:\n",
        "   def __init__(self,gdict=None):\n",
        "      if gdict is None:\n",
        "         gdict = []\n",
        "      self.gdict = gdict\n",
        "# Get the keys of the dictionary\n",
        "   def getVertices(self):\n",
        "      return list(self.gdict.keys())\n",
        "# Create the dictionary with graph elements\n",
        "graph_elements = {\n",
        "   \"1\" : [\"2\",\"3\", \"5\", \"6\"],\n",
        "   \"2\" : [\"1\", \"3\", \"4\", \"5\", \"6\"],\n",
        "   \"3\" : [\"1\", \"2\", \"4\", \"5\"],\n",
        "   \"4\" : [\"2\", \"3\"],\n",
        "   \"5\" : [\"1\", \"2\", \"3\"],\n",
        "   \"6\" : [\"1\", \"2\"]\n",
        "}\n",
        "g = graph18(graph_elements)\n",
        "print(g.getVertices())\n",
        "print(\"There are\", len(g.getVertices()), \"vertices.\")"
      ]
    },
    {
      "cell_type": "code",
      "source": [
        "#Display Graph Edges\n",
        "\n",
        "class graph:\n",
        "   def __init__(self,gdict=None):\n",
        "      if gdict is None:\n",
        "         gdict = {}\n",
        "      self.gdict = gdict\n",
        "\n",
        "   def edges(self):\n",
        "      return self.findedges()\n",
        "# Find the distinct list of edges\n",
        "   def findedges(self):\n",
        "      edgename = []\n",
        "      for vrtx in self.gdict:\n",
        "         for nxtvrtx in self.gdict[vrtx]:\n",
        "            if {nxtvrtx, vrtx} not in edgename:\n",
        "               edgename.append({vrtx, nxtvrtx})\n",
        "      return edgename\n",
        "# Create the dictionary with graph elements\n",
        "graph_elements = {\n",
        "   \"1\" : [\"2\",\"3\", \"5\", \"6\"],\n",
        "   \"2\" : [\"1\", \"3\", \"4\", \"5\", \"6\"],\n",
        "   \"3\" : [\"1\", \"2\", \"4\", \"5\"],\n",
        "   \"4\" : [\"2\", \"3\"],\n",
        "   \"5\" : [\"1\", \"2\", \"3\"],\n",
        "   \"6\" : [\"1\", \"2\"]\n",
        "}\n",
        "g = graph(graph_elements)\n",
        "print(g.edges())\n",
        "print(\"There are\", len(g.edges()), \"edges.\")"
      ],
      "metadata": {
        "colab": {
          "base_uri": "https://localhost:8080/"
        },
        "id": "SXHlatHHNvmL",
        "outputId": "1eb0afff-9e3c-4e04-f581-c1ca74dd1d3e"
      },
      "execution_count": 11,
      "outputs": [
        {
          "output_type": "stream",
          "name": "stdout",
          "text": [
            "[{'2', '1'}, {'1', '3'}, {'5', '1'}, {'6', '1'}, {'2', '3'}, {'2', '4'}, {'5', '2'}, {'6', '2'}, {'4', '3'}, {'5', '3'}]\n",
            "There are 10 edges.\n"
          ]
        }
      ]
    }
  ]
}