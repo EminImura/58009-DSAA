{
  "nbformat": 4,
  "nbformat_minor": 0,
  "metadata": {
    "colab": {
      "provenance": [],
      "authorship_tag": "ABX9TyPOWY46G7AhWp2wtxRkz5/6",
      "include_colab_link": true
    },
    "kernelspec": {
      "name": "python3",
      "display_name": "Python 3"
    },
    "language_info": {
      "name": "python"
    }
  },
  "cells": [
    {
      "cell_type": "markdown",
      "metadata": {
        "id": "view-in-github",
        "colab_type": "text"
      },
      "source": [
        "<a href=\"https://colab.research.google.com/github/EminImura/58009-DSAA/blob/main/Prelim_Exam.ipynb\" target=\"_parent\"><img src=\"https://colab.research.google.com/assets/colab-badge.svg\" alt=\"Open In Colab\"/></a>"
      ]
    },
    {
      "cell_type": "markdown",
      "source": [
        "Create the source code for adding the test scores 26, 49, 98, 87, 62, 75 (30 points)"
      ],
      "metadata": {
        "id": "flZAUpcu6dvC"
      }
    },
    {
      "cell_type": "code",
      "execution_count": 26,
      "metadata": {
        "colab": {
          "base_uri": "https://localhost:8080/"
        },
        "id": "c5gFpGQf6a8b",
        "outputId": "057a27be-2212-4062-efa0-ac970cc63649"
      },
      "outputs": [
        {
          "output_type": "stream",
          "name": "stdout",
          "text": [
            "Test Scores: [26, 49, 98, 87, 62, 75]\n",
            "Total Score: 397\n"
          ]
        }
      ],
      "source": [
        "total = 0\n",
        "test_scores = [26, 49, 98, 87, 62, 75]\n",
        "print(\"Test Scores:\", test_scores)\n",
        "for i in range(0,6):\n",
        "  total += test_scores[i]\n",
        "print(\"Total Score:\", total)"
      ]
    },
    {
      "cell_type": "markdown",
      "source": [
        "Create a program to sort the test scores in ascending order (20 points)"
      ],
      "metadata": {
        "id": "tdEZoUsn72dR"
      }
    },
    {
      "cell_type": "code",
      "source": [
        "test_scores = [26, 49, 98, 87, 62, 75]\n",
        "print(\"Not Sorted:\", test_scores)\n",
        "test_scores.sort()\n",
        "print(\"Sorted:\", test_scores)"
      ],
      "metadata": {
        "colab": {
          "base_uri": "https://localhost:8080/"
        },
        "id": "KErrr46272wq",
        "outputId": "ee6153d2-8a40-4a5b-d322-4c7fa0470a2c"
      },
      "execution_count": 27,
      "outputs": [
        {
          "output_type": "stream",
          "name": "stdout",
          "text": [
            "Not Sorted: [26, 49, 98, 87, 62, 75]\n",
            "Sorted: [26, 49, 62, 75, 87, 98]\n"
          ]
        }
      ]
    }
  ]
}