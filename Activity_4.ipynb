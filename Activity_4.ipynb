{
  "nbformat": 4,
  "nbformat_minor": 0,
  "metadata": {
    "colab": {
      "provenance": [],
      "authorship_tag": "ABX9TyN3qPUu8gnk6NWHUx+WSAMS",
      "include_colab_link": true
    },
    "kernelspec": {
      "name": "python3",
      "display_name": "Python 3"
    },
    "language_info": {
      "name": "python"
    }
  },
  "cells": [
    {
      "cell_type": "markdown",
      "metadata": {
        "id": "view-in-github",
        "colab_type": "text"
      },
      "source": [
        "<a href=\"https://colab.research.google.com/github/EminImura/58009-DSAA/blob/main/Activity_4.ipynb\" target=\"_parent\"><img src=\"https://colab.research.google.com/assets/colab-badge.svg\" alt=\"Open In Colab\"/></a>"
      ]
    },
    {
      "cell_type": "code",
      "execution_count": 15,
      "metadata": {
        "colab": {
          "base_uri": "https://localhost:8080/"
        },
        "id": "7zeAA_6ojIzZ",
        "outputId": "9eb028a9-a2be-4f80-e676-7673c78d1af6"
      },
      "outputs": [
        {
          "output_type": "stream",
          "name": "stdout",
          "text": [
            "['A', 'B', 'C']\n",
            "A B C\n",
            "[]\n"
          ]
        }
      ],
      "source": [
        "queue = []\n",
        "\n",
        "# enqueue items into queue\n",
        "queue.append('A')\n",
        "queue.append('B')\n",
        "queue.append('C')\n",
        "print(queue)\n",
        "\n",
        "# dequeue\n",
        "print(queue.pop(0), end=\" \")\n",
        "print(queue.pop(0), end=\" \")\n",
        "print(queue.pop(0))\n",
        "print(queue)"
      ]
    },
    {
      "cell_type": "markdown",
      "source": [
        "Activity 4"
      ],
      "metadata": {
        "id": "K7nVgdVjmhfm"
      }
    },
    {
      "cell_type": "code",
      "source": [
        "# printing system\n",
        "queue_printer = []\n",
        "\n",
        "# adding Files into the Queue\n",
        "loop = 0\n",
        "while loop < 1:\n",
        "  addedFiles = input(\"Enter your Files:\")\n",
        "  queue_printer.append(addedFiles)\n",
        "  print(\"Queue:\", queue_printer)\n",
        "\n",
        "  loop_choice = 0\n",
        "  while loop_choice < 1:\n",
        "    choice = input(\"Do you want to add more File Y|N:\")\n",
        "    if choice == 'Y' or choice == 'y':\n",
        "      loop_choice += 1\n",
        "    elif choice == 'N' or choice == 'n':\n",
        "      loop_choice += 1\n",
        "      loop += 1\n",
        "    else:\n",
        "      print(\"Not in the choices!\")\n",
        "\n",
        "  if len(queue_printer) == 10:\n",
        "    print(\"Queue is Full\")\n",
        "    loop += 1\n",
        "\n",
        "# printer printing\n",
        "print(\"\\nPRINTED\")\n",
        "for printed in range (len(queue_printer)):\n",
        "  print(queue_printer.pop(0), \"Has Been Printed.\")"
      ],
      "metadata": {
        "colab": {
          "base_uri": "https://localhost:8080/"
        },
        "id": "Idqe5hy_mar3",
        "outputId": "edde3811-fb4b-41a8-cdd4-f628992c65af"
      },
      "execution_count": 69,
      "outputs": [
        {
          "output_type": "stream",
          "name": "stdout",
          "text": [
            "Enter your Files:File1\n",
            "Queue: ['File1']\n",
            "Do you want to add more File Y|N:y\n",
            "Enter your Files:Image3\n",
            "Queue: ['File1', 'Image3']\n",
            "Do you want to add more File Y|N:y\n",
            "Enter your Files:Homework#3\n",
            "Queue: ['File1', 'Image3', 'Homework#3']\n",
            "Do you want to add more File Y|N:y\n",
            "Enter your Files:Activity4\n",
            "Queue: ['File1', 'Image3', 'Homework#3', 'Activity4']\n",
            "Do you want to add more File Y|N:y\n",
            "Enter your Files:GilmoreTigasxMathew\n",
            "Queue: ['File1', 'Image3', 'Homework#3', 'Activity4', 'GilmoreTigasxMathew']\n",
            "Do you want to add more File Y|N:n\n",
            "\n",
            "PRINTED\n",
            "File1 Has Been Printed.\n",
            "Image3 Has Been Printed.\n",
            "Homework#3 Has Been Printed.\n",
            "Activity4 Has Been Printed.\n",
            "GilmoreTigasxMathew Has Been Printed.\n"
          ]
        }
      ]
    }
  ]
}